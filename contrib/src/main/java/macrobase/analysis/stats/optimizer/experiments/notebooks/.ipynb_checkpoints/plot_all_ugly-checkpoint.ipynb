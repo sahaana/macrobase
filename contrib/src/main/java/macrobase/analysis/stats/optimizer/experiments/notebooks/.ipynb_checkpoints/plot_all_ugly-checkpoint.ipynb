{
 "cells": [
  {
   "cell_type": "code",
   "execution_count": null,
   "metadata": {
    "collapsed": true
   },
   "outputs": [],
   "source": [
    "import os\n",
    "import sys\n",
    "import matplotlib\n",
    "import matplotlib.pyplot as plt\n",
    "\n",
    "import numpy as np\n",
    "\n",
    "from sklearn.preprocessing import normalize\n",
    "\n",
    "from matplotlib.backends.backend_pdf import PdfPages\n",
    "\n",
    "from errno import EEXIST\n",
    "from os import makedirs,path\n",
    "\n",
    "%matplotlib inline"
   ]
  },
  {
   "cell_type": "code",
   "execution_count": null,
   "metadata": {
    "collapsed": true
   },
   "outputs": [],
   "source": [
    "plt.rcParams['figure.figsize'] = 10,5\n",
    "plt.rcParams['font.size'] = 10\n",
    "plt.rcParams['font.sans-serif'] = \"Helvetica\"\n",
    "plt.rcParams['font.family'] = \"sans-serif\"\n",
    "plt.rcParams['xtick.major.size'] = 3\n",
    "plt.rcParams['xtick.minor.size'] = 3\n",
    "plt.rcParams['xtick.major.width'] = 1\n",
    "plt.rcParams['xtick.minor.width'] = 1\n",
    "plt.rcParams['ytick.major.size'] = 3\n",
    "plt.rcParams['ytick.minor.size'] = 3\n",
    "plt.rcParams['ytick.major.width'] = 1\n",
    "plt.rcParams['ytick.minor.width'] = 1"
   ]
  },
  {
   "cell_type": "code",
   "execution_count": null,
   "metadata": {
    "collapsed": true
   },
   "outputs": [],
   "source": [
    "datasets = [\"50words\", \"Adiac\", \"ArrowHead\", \"Beef\", \"BeetleFly\", \"BirdChicken\", \"Car\", \"CBF\", \"ChlorineConcentration\", \"CinC\", \"Coffee\", \"Computers\", \"Cricket\", \"DiatomSizeReduction\", \"DistalPhalanxOutlineAgeGroup\", \"DistalPhalanxOutlineCorrect\", \"DistalPhalanxTW\", \"Earthquakes\", \"ECG200\", \"ECG5000\", \"ECGFiveDays\", \"ElectricDevices\", \"FaceAll\", \"FaceFour\", \"FacesUCR\", \"FISH\", \"FordA\", \"FordB\", \"Gun\", \"Ham\", \"HandOutlines\", \"Haptics\", \"Herring\", \"InlineSkate\", \"InsectWingbeatSound\", \"ItalyPowerDemand\", \"LargeKitchenAppliances\", \"Lighting2\", \"Lighting7\", \"MALLAT\", \"Meat\", \"MedicalImages\", \"MiddlePhalanxOutlineAgeGroup\", \"MiddlePhalanxOutlineCorrect\", \"MiddlePhalanxTW\", \"MoteStrain\", \"NonInvasiveFatalECG\", \"OliveOil\", \"OSULeaf\", \"PhalangesOutlinesCorrect\", \"Phoneme\", \"Plane\", \"ProximalPhalanxOutlineAgeGroup\", \"ProximalPhalanxOutlineCorrect\", \"ProximalPhalanxTW\", \"RefrigerationDevices\", \"ScreenType\", \"ShapeletSim\", \"ShapesAll\", \"SmallKitchenAppliances\", \"SonyAIBORobotSurface\", \"SonyAIBORobotSurfaceII\", \"StarLightCurves\", \"Strawberry\", \"SwedishLeaf\", \"Symbols\", \"synthetic\", \"ToeSegmentation1\", \"ToeSegmentation2\", \"Trace\", \"TwoLeadECG\", \"Two\", \"UWaveGestureLibraryAll\", \"uWaveGestureLibrary\", \"wafer\", \"Wine\", \"WordsSynonyms\", \"Worms\", \"WormsTwoClass\", \"yoga\"]"
   ]
  },
  {
   "cell_type": "code",
   "execution_count": null,
   "metadata": {
    "collapsed": true
   },
   "outputs": [],
   "source": [
    "def get_baseline_KvLBR(date):\n",
    "    for root,_, files in os.walk(\"../baselineExperiments/{}/KvLBR\".format(date)):\n",
    "        return [os.path.join(root, name) for name in files]\n",
    "    \n",
    "def get_baseline_KvTime(date):\n",
    "    for root,_, files in os.walk(\"../baselineExperiments/{}/KvTime\".format(date)):\n",
    "        return [os.path.join(root, name) for name in files]\n",
    "\n",
    "def get_spectrum():\n",
    "    for root,_, files in os.walk(\"../baselineExperiments/spectrum\"):\n",
    "        return [os.path.join(root, name) for name in files]\n",
    "    \n",
    "def get_LBRvTime(date):\n",
    "    for root,_, files in os.walk(\"../LBRvTimeExperiments/{}\".format(date)):\n",
    "        return [os.path.join(root, name) for name in files]\n",
    "    \n",
    "def get_obj_KEXPvK(date):\n",
    "    for root,_, files in os.walk(\"../ObjectiveFuncExperiments/{}/KEXPvK\".format(date)):\n",
    "        return [os.path.join(root, name) for name in files]\n",
    "\n",
    "def get_obj_KEXPvTime(date):\n",
    "    for root,_, files in os.walk(\"../ObjectiveFuncExperiments/{}/KEXPvTime\".format(date)):\n",
    "        return [os.path.join(root, name) for name in files]\n",
    "    \n",
    "def get_obj_val(date):\n",
    "    for root,_, files in os.walk(\"../ObjectiveFuncExperiments/{}/objValue\".format(date)):\n",
    "        return [os.path.join(root, name) for name in files]\n",
    "    \n",
    "def get_SVD_MDTime(date):\n",
    "    for root,_, files in os.walk(\"../SVDExperiments/{}/MDtimeEst\".format(date)):\n",
    "        return [os.path.join(root, name) for name in files]    \n",
    "\n",
    "def get_SVD_NTvK(date):\n",
    "    for root,_, files in os.walk(\"../SVDExperiments/{}/NTvK\".format(date)):\n",
    "        return [os.path.join(root, name) for name in files]   "
   ]
  },
  {
   "cell_type": "code",
   "execution_count": null,
   "metadata": {
    "collapsed": true
   },
   "outputs": [],
   "source": [
    "def get_name(f):\n",
    "    fn = f.split(\"/\")[-1]\n",
    "    return fn.split(\".csv\")[0]\n",
    "\n",
    "def split_baseline(f):\n",
    "    fn = f.split(\"_\")\n",
    "    hour = fn[0]\n",
    "    minute = fn[1]\n",
    "    data = fn[2]\n",
    "    q = fn[3][1:]\n",
    "    method = fn[4]\n",
    "    return hour,minute,data,q,method\n",
    "\n",
    "def split_spectrum(f):\n",
    "    fn = f.split(\"_\")\n",
    "    data = fn[0]\n",
    "    return data\n",
    "    \n",
    "def split_LBRvTime(f):\n",
    "    fn = f.split(\"_\")\n",
    "    hour = fn[0]\n",
    "    minute = fn[1]\n",
    "    data = fn[2]\n",
    "    algo = fn[3]\n",
    "    q =  fn[4][1:]\n",
    "    kexp = fn[5][4:]\n",
    "    work = fn[6]\n",
    "    return hour,minute,data,algo,q,kexp,work\n",
    "    \n",
    "def split_obj_kexp(f):\n",
    "    fn = f.split(\"_\")\n",
    "    hour = fn[0]\n",
    "    minute = fn[1]\n",
    "    data = fn[2]\n",
    "    algo = fn[3]\n",
    "    lbr = fn[4][3:]\n",
    "    q =  fn[5][1:]\n",
    "    work = fn[6]\n",
    "    return hour,minute,data,algo,lbr,q,work\n",
    "\n",
    "def split_obj_val(f):\n",
    "    fn = f.split(\"_\")\n",
    "    hour = fn[0]\n",
    "    minute = fn[1]\n",
    "    data = fn[2]\n",
    "    lbr = fn[3][3:]\n",
    "    q =  fn[4][1:]\n",
    "    kexp = fn[5][4:]\n",
    "    algo = fn[6]\n",
    "    work = fn[7]\n",
    "    flag = fn[8]\n",
    "    return hour,minute,data,lbr,q,kexp,algo,work,flag\n",
    "\n",
    "def split_SVD(f):\n",
    "    fn = f.split(\"_\")\n",
    "    hour = fn[0]\n",
    "    minute = fn[1]\n",
    "    data = fn[2]\n",
    "    lbr = fn[3][3:]\n",
    "    q =  fn[4][1:]\n",
    "    kexp = fn[5][4:]\n",
    "    work = fn[6]\n",
    "    return hour,minute,data,lbr,q,kexp,work\n"
   ]
  },
  {
   "cell_type": "code",
   "execution_count": null,
   "metadata": {
    "collapsed": true
   },
   "outputs": [],
   "source": [
    "def mkdir_p(mypath):\n",
    "    '''Creates a directory. equivalent to using mkdir -p on the command line'''\n",
    "    try:\n",
    "        makedirs(mypath)\n",
    "    except OSError as exc: # Python >2.5\n",
    "        if exc.errno == EEXIST and path.isdir(mypath):\n",
    "            pass\n",
    "        else: raise\n",
    "\n",
    "def plot_sort_by_key_single(data,title,xlabel,ylabel):\n",
    "    sorted_data = data[np.argsort(data[:,0])]\n",
    "    plt.plot(sorted_data[:,0],sorted_data[:,1], marker='o')\n",
    "    plt.title(title)\n",
    "    plt.xlabel(xlabel)\n",
    "    plt.ylabel(ylabel)\n",
    "    \n",
    "def plot_spectrum(data,cutoff):\n",
    "    x = np.linspace(0.01,1,100)\n",
    "    norm_data = data/np.sum(data)\n",
    "    interped = np.interp(x, np.array(range(1,data.shape[0]+1))/float(data.shape[0]),norm_data)\n",
    "    plt.plot(x,interped)\n",
    "    return interped\n",
    "\n",
    "def plot_raw_spectrum(data, title):\n",
    "    norm_data = data/np.sum(data)\n",
    "    x = np.array(range(1,data.shape[0]+1))/float(data.shape[0])\n",
    "    plt.plot(x,norm_data)    \n",
    "    plt.title(title)\n",
    "\n",
    "def plot_interp_spectrum(data, title):\n",
    "    x = np.linspace(0.001,1,100)\n",
    "    norm_data = data/np.sum(data)\n",
    "    x = np.array(range(1,data.shape[0]+1))/float(data.shape[0])\n",
    "    plt.plot(x,np.interp(x, np.array(range(1,data.shape[0]+1))/float(data.shape[0]),norm_data))    \n",
    "    plt.title(title)\n",
    "    \n",
    "\n",
    "    "
   ]
  },
  {
   "cell_type": "code",
   "execution_count": null,
   "metadata": {
    "collapsed": true
   },
   "outputs": [],
   "source": [
    "today = '05-01'\n",
    "yesterday = '05-02'"
   ]
  },
  {
   "cell_type": "markdown",
   "metadata": {},
   "source": [
    "# Baseline Plots"
   ]
  },
  {
   "cell_type": "markdown",
   "metadata": {},
   "source": [
    "## K v Time"
   ]
  },
  {
   "cell_type": "code",
   "execution_count": null,
   "metadata": {
    "scrolled": false
   },
   "outputs": [],
   "source": [
    "def plot_sort_by_key_single(data,title,xlabel,ylabel):\n",
    "    sorted_data = data[np.argsort(data[:,0])]\n",
    "    plt.plot(sorted_data[:,0],sorted_data[:,1])\n",
    "    plt.title(title)\n",
    "    plt.xlabel(xlabel)\n",
    "    plt.ylabel(ylabel)\n",
    "\n",
    "full_files = get_baseline_KvTime(yesterday)\n",
    "files = [get_name(f) for f in full_files]\n",
    "\n",
    "prev_data = \"\"\n",
    "legend = []\n",
    "handle = plt.figure()\n",
    "for f, name in zip(full_files,files):\n",
    "    meta_data = split_baseline(name)\n",
    "    if prev_data != meta_data[2]:\n",
    "        plt.legend(legend)\n",
    "        handle.savefig(\"../baselineExperiments/{}/KvTime/plots/{}.pdf\".format(yesterday,prev_data))\n",
    "        handle = plt.figure()\n",
    "        prev_data = meta_data[2]\n",
    "    legend += [meta_data[4]]\n",
    "    data = np.loadtxt(f, delimiter=',') \n",
    "    sorted_data = data[np.argsort(data[:,0])]\n",
    "    fit_time = sorted_data[0,1]\n",
    "    proc_data = sorted_data[1:,:]\n",
    "    proc_data[:,1] += fit_time\n",
    "    plot_sort_by_key_single(proc_data,meta_data[2],'K', 'time')"
   ]
  },
  {
   "cell_type": "markdown",
   "metadata": {},
   "source": [
    "## K v LBR"
   ]
  },
  {
   "cell_type": "code",
   "execution_count": null,
   "metadata": {
    "scrolled": false
   },
   "outputs": [],
   "source": [
    "full_files = get_baseline_KvLBR(yesterday)\n",
    "files = [get_name(f) for f in full_files]\n",
    "\n",
    "prev_data = \"\"\n",
    "legend = []\n",
    "handle = plt.figure()\n",
    "for f, name in zip(full_files,files):\n",
    "    meta_data = split_baseline(name)\n",
    "    if meta_data[4] == \"RP\":\n",
    "        continue\n",
    "    if prev_data != meta_data[2]:\n",
    "        plt.legend(legend)\n",
    "        handle.savefig(\"../baselineExperiments/{}/KvLBR/plots/{}.pdf\".format(yesterday,prev_data))\n",
    "        handle = plt.figure()\n",
    "        prev_data = meta_data[2]\n",
    "    legend += [meta_data[4]]\n",
    "    data = np.loadtxt(f, delimiter=',') \n",
    "    plot_sort_by_key_single(data,meta_data[2],'K', 'LBR')"
   ]
  },
  {
   "cell_type": "markdown",
   "metadata": {},
   "source": [
    "# Spectrum Plots"
   ]
  },
  {
   "cell_type": "code",
   "execution_count": null,
   "metadata": {
    "collapsed": true,
    "scrolled": true
   },
   "outputs": [],
   "source": [
    "full_files = get_spectrum()\n",
    "files = [get_name(f) for f in full_files]\n",
    "interped = []\n",
    "handle = plt.figure()\n",
    "for f, name in zip(full_files,files):\n",
    "    data = np.loadtxt(f, delimiter=',') \n",
    "    interped.append(plot_spectrum(data,25))\n",
    "plt.title(\"All Normalized\")\n",
    "handle.savefig(\"../baselineExperiments/spectrum/plots/all_normalized.pdf\")\n",
    "\n",
    "thing = np.concatenate(interped).reshape([len(interped),-1])\n",
    "handle=plt.figure()\n",
    "plt.plot(np.linspace(0.001,1,100),thing.T, color='lightgrey')\n",
    "plt.plot(np.linspace(0.001,1,100),np.percentile(thing,50,axis=0), color='#5f81e4')\n",
    "plt.plot(np.linspace(0.001,1,100),np.percentile(thing,25,axis=0), '--', color='c')\n",
    "plt.plot(np.linspace(0.001,1,100),np.percentile(thing,75,axis=0),'--', color='c')\n",
    "plt.title(\"All Normalized\")\n",
    "handle.savefig(\"../baselineExperiments/spectrum/plots/all_normalized_greyed.pdf\")\n",
    "\n",
    "\n",
    "\n",
    "for f, name in zip(full_files,files):\n",
    "    dname = name.split('_')[0]\n",
    "    data = np.loadtxt(f, delimiter=',') \n",
    "    handle = plt.figure()\n",
    "    plot_raw_spectrum(data,dname)\n",
    "    handle.savefig(\"../baselineExperiments/spectrum/plots/{}.pdf\".format(dname))"
   ]
  },
  {
   "cell_type": "markdown",
   "metadata": {},
   "source": [
    "# SVD MicDrop Base Plots"
   ]
  },
  {
   "cell_type": "markdown",
   "metadata": {},
   "source": [
    "## Nt against Actual vs Estimated Nt Time"
   ]
  },
  {
   "cell_type": "code",
   "execution_count": null,
   "metadata": {
    "collapsed": true,
    "scrolled": false
   },
   "outputs": [],
   "source": [
    "date = '05-21'\n",
    "def plot_Nt_by_time(data,title,xlabel,ylabel):\n",
    "    sorted_data = data[np.argsort(data[:,0])]\n",
    "    plt.plot(sorted_data[:,0],sorted_data[:,1],label='true', marker='o')\n",
    "    plt.plot(sorted_data[:,0],sorted_data[:,2],label='predicted', marker='o')\n",
    "    plt.legend()\n",
    "    plt.title(title)\n",
    "    plt.xlabel(xlabel)\n",
    "    plt.ylabel(ylabel)\n",
    "\n",
    "full_files = get_SVD_MDTime(date)\n",
    "files = [get_name(f) for f in full_files]\n",
    "savef = \"../SVDExperiments/{}/MDtimeEst/plots/\".format(date)\n",
    "mkdir_p(savef)\n",
    "for f, name in zip(full_files,files):\n",
    "    data = np.loadtxt(f, delimiter=',') \n",
    "    handle = plt.figure()\n",
    "    plot_Nt_by_time(data,name,'Nt', 'time')\n",
    "    handle.savefig(savef+name+\".pdf\")\n",
    "    plt.close()\n"
   ]
  },
  {
   "cell_type": "markdown",
   "metadata": {},
   "source": [
    "## Nt vs K"
   ]
  },
  {
   "cell_type": "code",
   "execution_count": null,
   "metadata": {
    "collapsed": true
   },
   "outputs": [],
   "source": [
    "date = '05-21'\n",
    "\n",
    "full_files = get_SVD_NTvK(date)\n",
    "files = [get_name(f) for f in full_files]\n",
    "savef = \"../SVDExperiments/{}/NTvK/plots/\".format(date)\n",
    "mkdir_p(savef)\n",
    "for f, name in zip(full_files,files):\n",
    "    data = np.loadtxt(f, delimiter=',') \n",
    "    handle = plt.figure()\n",
    "    plot_sort_by_key_single(data,name,\"Nt\", \"K\")\n",
    "    handle.savefig(savef+name+\".pdf\")\n",
    "    plt.close()"
   ]
  },
  {
   "cell_type": "markdown",
   "metadata": {},
   "source": [
    "# LBR vs Time Plots"
   ]
  },
  {
   "cell_type": "code",
   "execution_count": null,
   "metadata": {
    "scrolled": false
   },
   "outputs": [],
   "source": [
    "date = '05-21'\n",
    "def plot_LBRvTime(data, algo, work):\n",
    "    sorted_data = data[np.argsort(data[:,0])]\n",
    "    plt.plot(sorted_data[:,0],sorted_data[:,1], label=algo+\"_\"+work, marker='o')\n",
    "c = plt.cm.Paired(np.linspace(0,1,12))\n",
    "\n",
    "algos = ['SVD', 'TROPP', 'FAST']\n",
    "works = ['REUSE', 'NOREUSE']\n",
    "full_files = get_LBRvTime(date)\n",
    "for d in datasets[:8]:\n",
    "    handle = plt.figure()\n",
    "    plt.gca().set_color_cycle(c)\n",
    "    plt.hold(True)\n",
    "    for algo in algos:\n",
    "        for work in works:\n",
    "            dfiles = filter(lambda x: work == split_LBRvTime(get_name(x))[6],filter(lambda x: algo == split_LBRvTime(get_name(x))[3], filter(lambda x: d == split_LBRvTime(get_name(x))[2], full_files)))\n",
    "            f = dfiles[0]\n",
    "            data = np.loadtxt(f, delimiter=',') \n",
    "            plot_LBRvTime(data,algo,work)\n",
    "    plt.title(d)\n",
    "    plt.xlabel(\"LBR\")\n",
    "    plt.ylabel(\"Total Time\")\n",
    "    plt.legend(bbox_to_anchor=(0., 1.07, 1., .102), loc=3,\n",
    "           ncol=2, mode=\"expand\", borderaxespad=0.)\n",
    "    #handle.savefig(\"../LBRvTimeExperiments/{}/plots/{}.pdf\".format(date,d), bbox_inches='tight')\n",
    "    #plt.close()\n",
    "\n",
    "    \n",
    "date = '05-22'\n",
    "def plot_LBRvTime(data, algo, work):\n",
    "    sorted_data = data[np.argsort(data[:,0])]\n",
    "    plt.plot(sorted_data[:,0],sorted_data[:,1], label=algo+\"_\"+work, marker='o')\n",
    "c = plt.cm.Paired(np.linspace(0,1,12))\n",
    "\n",
    "algos = ['SVD', 'TROPP', 'FAST']\n",
    "works = ['REUSE', 'NOREUSE']\n",
    "full_files = get_LBRvTime(date)\n",
    "for d in datasets[8:]:\n",
    "    handle = plt.figure()\n",
    "    plt.gca().set_color_cycle(c)\n",
    "    plt.hold(True)\n",
    "    for algo in algos:\n",
    "        for work in works:\n",
    "            dfiles = filter(lambda x: work == split_LBRvTime(get_name(x))[6],filter(lambda x: algo == split_LBRvTime(get_name(x))[3], filter(lambda x: d == split_LBRvTime(get_name(x))[2], full_files)))\n",
    "            f = dfiles[0]\n",
    "            data = np.loadtxt(f, delimiter=',') \n",
    "            plot_LBRvTime(data,algo,work)\n",
    "    plt.title(d)\n",
    "    plt.xlabel(\"LBR\")\n",
    "    plt.ylabel(\"Total Time\")\n",
    "    plt.legend(bbox_to_anchor=(0., 1.07, 1., .102), loc=3,\n",
    "           ncol=2, mode=\"expand\", borderaxespad=0.)\n",
    "    #handle.savefig(\"../LBRvTimeExperiments/{}/plots/{}.pdf\".format(date,d), bbox_inches='tight')\n",
    "    #plt.close()"
   ]
  },
  {
   "cell_type": "markdown",
   "metadata": {},
   "source": [
    "# Objective Function Plots"
   ]
  },
  {
   "cell_type": "code",
   "execution_count": null,
   "metadata": {
    "collapsed": true
   },
   "outputs": [],
   "source": [
    "datasets = [\"50words\", \"Adiac\", \"ArrowHead\", \"Beef\", \"BeetleFly\", \"BirdChicken\", \"Car\", \"CBF\", \"ChlorineConcentration\", \"CinC\", \"Coffee\", \"Cricket\", \"DiatomSizeReduction\", \"DistalPhalanxOutlineAgeGroup\", \"DistalPhalanxOutlineCorrect\", \"DistalPhalanxTW\", \"Earthquakes\", \"ECG200\", \"ECG5000\", \"ECGFiveDays\", \"ElectricDevices\", \"FaceAll\", \"FaceFour\", \"FacesUCR\", \"FISH\", \"FordA\", \"FordB\", \"Gun\", \"Ham\", \"HandOutlines\", \"Haptics\", \"Herring\", \"InlineSkate\", \"InsectWingbeatSound\", \"ItalyPowerDemand\", \"LargeKitchenAppliances\", \"Lighting2\", \"Lighting7\", \"MALLAT\", \"Meat\", \"MedicalImages\", \"MiddlePhalanxOutlineAgeGroup\", \"MiddlePhalanxOutlineCorrect\", \"MiddlePhalanxTW\", \"MoteStrain\", \"NonInvasiveFatalECG\", \"OliveOil\", \"OSULeaf\", \"PhalangesOutlinesCorrect\", \"Phoneme\", \"Plane\", \"ProximalPhalanxOutlineAgeGroup\", \"ProximalPhalanxOutlineCorrect\", \"ProximalPhalanxTW\", \"RefrigerationDevices\", \"ScreenType\", \"ShapeletSim\", \"ShapesAll\", \"SmallKitchenAppliances\", \"SonyAIBORobotSurface\", \"SonyAIBORobotSurfaceII\", \"StarLightCurves\", \"Strawberry\", \"SwedishLeaf\", \"Symbols\", \"synthetic\", \"ToeSegmentation1\", \"ToeSegmentation2\", \"Trace\", \"TwoLeadECG\", \"Two\", \"UWaveGestureLibraryAll\", \"uWaveGestureLibrary\", \"wafer\", \"Wine\", \"WordsSynonyms\", \"Worms\", \"WormsTwoClass\", \"yoga\"]"
   ]
  },
  {
   "cell_type": "markdown",
   "metadata": {},
   "source": [
    "## K exponent vs K"
   ]
  },
  {
   "cell_type": "code",
   "execution_count": null,
   "metadata": {
    "scrolled": true
   },
   "outputs": [],
   "source": [
    "date = '05-21'\n",
    "def plot_obj_kexp(data, algo, work):\n",
    "    sorted_data = data[np.argsort(data[:,0])]\n",
    "    plt.plot(sorted_data[:,0],sorted_data[:,1], label=algo+\"_\"+work, marker='o')\n",
    "c = plt.cm.Paired(np.linspace(0,1,12))\n",
    "\n",
    "algos = ['SVD', 'TROPP', 'FAST']\n",
    "works = ['REUSE', 'NOREUSE']\n",
    "full_files = get_obj_KEXPvK(date)\n",
    "#files = [get_name(f) for f in full_files]\n",
    "savef = \"../ObjectiveFuncExperiments/{}/KEXPvK/plots/\".format(date)\n",
    "mkdir_p(savef)\n",
    "for d in datasets[:11] + datasets[12:55] + datasets[56:]:\n",
    "    handle = plt.figure()\n",
    "    plt.gca().set_color_cycle(c)\n",
    "    plt.hold(True)\n",
    "    for algo in algos:\n",
    "        for work in works:\n",
    "            dfiles = filter(lambda x: work == split_obj_kexp(get_name(x))[6],filter(lambda x: algo == split_obj_kexp(get_name(x))[3], filter(lambda x: d == split_obj_kexp(get_name(x))[2], full_files)))\n",
    "            f = dfiles[0]\n",
    "            data = np.loadtxt(f, delimiter=',') \n",
    "            plot_obj_kexp(data,algo,work)\n",
    "    plt.title(d)\n",
    "    plt.xlabel(\"Kexp\")\n",
    "    plt.ylabel(\"K\")\n",
    "    plt.legend(bbox_to_anchor=(0., 1.07, 1., .102), loc=3,\n",
    "           ncol=2, mode=\"expand\", borderaxespad=0.)\n",
    "    handle.savefig(\"{}.pdf\".format(d), bbox_inches='tight')\n",
    "    plt.close()"
   ]
  },
  {
   "cell_type": "markdown",
   "metadata": {},
   "source": [
    "## K exponent vs Total Runtime"
   ]
  },
  {
   "cell_type": "code",
   "execution_count": null,
   "metadata": {},
   "outputs": [],
   "source": [
    "date = '05-21'\n",
    "def plot_obj_kexp(data, algo, work):\n",
    "    sorted_data = data[np.argsort(data[:,0])]\n",
    "    plt.plot(sorted_data[:,0],sorted_data[:,1], label=algo+\"_\"+work,marker='o')\n",
    "c = plt.cm.Paired(np.linspace(0,1,12))\n",
    "    \n",
    "algos = ['SVD', 'TROPP', 'FAST']\n",
    "works = ['REUSE', 'NOREUSE']\n",
    "full_files = get_obj_KEXPvTime(date)\n",
    "#files = [get_name(f) for f in full_files]\n",
    "savef = \"../ObjectiveFuncExperiments/{}/KEXPvTime/plots/\".format(date)\n",
    "mkdir_p(savef)\n",
    "for d in datasets[:11] + datasets[12:55] + datasets[56:]:\n",
    "    handle = plt.figure()\n",
    "    plt.gca().set_color_cycle(c)\n",
    "    plt.hold(True)\n",
    "    for algo in algos:\n",
    "        for work in works:\n",
    "            dfiles = filter(lambda x: work == split_obj_kexp(get_name(x))[6],filter(lambda x: algo == split_obj_kexp(get_name(x))[3], filter(lambda x: d == split_obj_kexp(get_name(x))[2], full_files)))\n",
    "            f = dfiles[0]\n",
    "            data = np.loadtxt(f, delimiter=',') \n",
    "            plot_obj_kexp(data,algo,work)\n",
    "    plt.title(d)\n",
    "    plt.xlabel(\"Kexp\")\n",
    "    plt.ylabel(\"Total Runtime\")\n",
    "    plt.legend(bbox_to_anchor=(0., 1.07, 1., .102), loc=3,\n",
    "           ncol=2, mode=\"expand\", borderaxespad=0.)\n",
    "    handle.savefig(savef+\"{}.pdf\".format(d), bbox_inches='tight')\n",
    "    plt.close()"
   ]
  },
  {
   "cell_type": "markdown",
   "metadata": {},
   "source": [
    "## Nt against Actual vs Estimated Objective"
   ]
  },
  {
   "cell_type": "code",
   "execution_count": null,
   "metadata": {
    "scrolled": false
   },
   "outputs": [],
   "source": [
    "date = '05-21'\n",
    "def plot_obj_val(data_true, data_pred, algo, work):\n",
    "    sorted_data_true = data_true[np.argsort(data_true[:,0])]\n",
    "    sorted_data_pred = data_pred[np.argsort(data_pred[:,0])]\n",
    "    plt.semilogy(sorted_data_true[:,0],sorted_data_true[:,1], label=\"true \"+algo+\"_\"+work,marker='o')\n",
    "    plt.semilogy(sorted_data_pred[:,0],sorted_data_pred[:,1], label=\"predicted \"+algo+\"_\"+work,marker='o')\n",
    "    \n",
    "c = plt.cm.Paired(np.linspace(0,1,12))\n",
    "\n",
    "algos = ['SVD', 'TROPP', 'FAST']\n",
    "works = ['REUSE', 'NOREUSE']\n",
    "Kexps = ['1','2','3']\n",
    "full_files = get_obj_val(date)\n",
    "#files = [get_name(f) for f in full_files]\n",
    "savef = \"../ObjectiveFuncExperiments/{}/objValue/plots/\".format(date)\n",
    "mkdir_p(savef)\n",
    "for d in datasets[:11] + datasets[12:55] + datasets[56:]:\n",
    "    for Kexp in Kexps:\n",
    "        handle = plt.figure()\n",
    "        plt.gca().set_color_cycle(c)\n",
    "        plt.hold(True)\n",
    "        for algo in algos:\n",
    "            for work in works:\n",
    "                dfiles = filter(lambda x: algo == split_obj_val(get_name(x))[6], filter(lambda x: d == split_obj_val(get_name(x))[2], full_files))\n",
    "                dfiles = filter(lambda x: Kexp == split_obj_val(get_name(x))[5],filter(lambda x: work == split_obj_val(get_name(x))[7],dfiles))\n",
    "                \n",
    "                ftrue = filter(lambda x: 'true.csv' in x, dfiles)[0]\n",
    "                fpred = filter(lambda x: 'predicted.csv' in x, dfiles)[0]\n",
    "                \n",
    "                data_true = np.loadtxt(ftrue, delimiter=',') \n",
    "                data_pred = np.loadtxt(fpred, delimiter=',') \n",
    "                \n",
    "                plot_obj_val(data_true, data_pred, algo, work)\n",
    "        plt.title(d+\" Kexp:\"+Kexp)\n",
    "        plt.xlabel(\"Nt\")\n",
    "        plt.ylabel(\"Objective\")\n",
    "        plt.legend(bbox_to_anchor=(0., 1.07, 1., .102), loc=3,\n",
    "           ncol=2, mode=\"expand\", borderaxespad=0.)\n",
    "        handle.savefig(savef+\"{}_kexp{}.pdf\".format(d,Kexp), bbox_inches='tight')\n",
    "        plt.close()"
   ]
  },
  {
   "cell_type": "code",
   "execution_count": null,
   "metadata": {
    "collapsed": true
   },
   "outputs": [],
   "source": []
  }
 ],
 "metadata": {
  "kernelspec": {
   "display_name": "Python 2",
   "language": "python",
   "name": "python2"
  },
  "language_info": {
   "codemirror_mode": {
    "name": "ipython",
    "version": 2
   },
   "file_extension": ".py",
   "mimetype": "text/x-python",
   "name": "python",
   "nbconvert_exporter": "python",
   "pygments_lexer": "ipython2",
   "version": "2.7.12"
  }
 },
 "nbformat": 4,
 "nbformat_minor": 1
}
